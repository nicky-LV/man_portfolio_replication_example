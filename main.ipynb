{
 "cells": [
  {
   "cell_type": "code",
   "execution_count": 46,
   "id": "initial_id",
   "metadata": {
    "collapsed": true,
    "ExecuteTime": {
     "end_time": "2023-11-20T20:51:17.257523614Z",
     "start_time": "2023-11-20T20:51:17.215029143Z"
    }
   },
   "outputs": [],
   "source": [
    "import numpy as np"
   ]
  },
  {
   "cell_type": "markdown",
   "source": [
    "# Initial Portfolio\n",
    "Initial delta-neutral portfolio, consisting of 1 underlying and 5 put options"
   ],
   "metadata": {
    "collapsed": false
   },
   "id": "e7f5464dcb27f869"
  },
  {
   "cell_type": "code",
   "execution_count": 47,
   "outputs": [],
   "source": [
    "delta_underlying, delta_option = 1, 0.2\n",
    "gamma_option = 0.1\n",
    "delta_static_pft, delta_dynamic_pft = 0, 0  # delta neutral portfolios\n",
    "qty_underlying, qty_option = 1, -5  # initial qty of underlying/option\n",
    "trn_cost = 5  # transaction costs for buying/selling underlying\n",
    "dynamic_trn_costs = (qty_option * trn_cost)"
   ],
   "metadata": {
    "collapsed": false,
    "ExecuteTime": {
     "end_time": "2023-11-20T20:51:17.399957375Z",
     "start_time": "2023-11-20T20:51:17.225806095Z"
    }
   },
   "id": "dfec64cc01c55f26"
  },
  {
   "cell_type": "markdown",
   "source": [
    "# Stochastic Modelling\n",
    "GBM is used to model the underlying equity"
   ],
   "metadata": {
    "collapsed": false
   },
   "id": "6e54ac91b1a4031"
  },
  {
   "cell_type": "code",
   "execution_count": 48,
   "outputs": [],
   "source": [
    "def gbm(s0: float, mu: float, sigma: float):\n",
    "    global delta_static_pft, delta_dynamic_pft\n",
    "    global delta_option\n",
    "    new_sim = s0 * mu + (sigma * np.random.standard_normal())\n",
    "    delta_diff = (new_sim - s0) * gamma_option\n",
    "    delta_option += delta_diff\n",
    "    delta_static_pft += (-5 * delta_diff)\n",
    "    delta_dynamic_pft += abs(qty_option * delta_diff)\n",
    "    return new_sim"
   ],
   "metadata": {
    "collapsed": false,
    "ExecuteTime": {
     "end_time": "2023-11-20T20:51:17.502590274Z",
     "start_time": "2023-11-20T20:51:17.328051366Z"
    }
   },
   "id": "c5cceef563509dba"
  },
  {
   "cell_type": "code",
   "execution_count": 49,
   "outputs": [],
   "source": [
    "def rebalance_dynamic_pft():\n",
    "    global dynamic_trn_costs, qty_option, delta_dynamic_pft\n",
    "    num_calls = -(delta_dynamic_pft / delta_option)\n",
    "    delta_dynamic_pft += (num_calls * delta_option)\n",
    "    qty_option += num_calls\n",
    "    dynamic_trn_costs += abs(trn_cost * num_calls)"
   ],
   "metadata": {
    "collapsed": false,
    "ExecuteTime": {
     "end_time": "2023-11-20T20:51:17.614110070Z",
     "start_time": "2023-11-20T20:51:17.508729008Z"
    }
   },
   "id": "781f92d7bb24f3c9"
  },
  {
   "cell_type": "markdown",
   "source": [
    "# Simulation\n",
    "Given 20 timesteps, we will simulate the underlying's price and rebalance the dynamic portfolio to stay delta neutral.\n",
    "\n",
    "1. **Static Replication is cheaper, but cannot maintain delta neutrality due to the changing nature of the markets**\n",
    "2. **Dynamic Replication is more expensive, but maintains delta neutrality**"
   ],
   "metadata": {
    "collapsed": false
   },
   "id": "8386e3b3784db312"
  },
  {
   "cell_type": "code",
   "execution_count": 50,
   "outputs": [
    {
     "name": "stdout",
     "output_type": "stream",
     "text": [
      "Simulation [0]\n",
      "SR:\n",
      "Pft Delta: 0\n",
      "Overall costs: 25\n",
      "\n",
      "DR:\n",
      "Pft Delta: 0\n",
      "Overall costs: -25\n",
      "\n",
      "Simulation [1]\n",
      "SR:\n",
      "Pft Delta: 0.03\n",
      "Overall costs: 25\n",
      "\n",
      "DR:\n",
      "Pft Delta: 0.0\n",
      "Overall costs: -24.18\n",
      "\n",
      "Simulation [2]\n",
      "SR:\n",
      "Pft Delta: -9.89\n",
      "Overall costs: 25\n",
      "\n",
      "DR:\n",
      "Pft Delta: 0.0\n",
      "Overall costs: -0.66\n",
      "\n",
      "Simulation [3]\n",
      "SR:\n",
      "Pft Delta: -14.2\n",
      "Overall costs: 25\n",
      "\n",
      "DR:\n",
      "Pft Delta: 0.0\n",
      "Overall costs: 13.32\n",
      "\n",
      "Simulation [4]\n",
      "SR:\n",
      "Pft Delta: -23.27\n",
      "Overall costs: 25\n",
      "\n",
      "DR:\n",
      "Pft Delta: 0.0\n",
      "Overall costs: 36.99\n",
      "\n",
      "Simulation [5]\n",
      "SR:\n",
      "Pft Delta: -27.12\n",
      "Overall costs: 25\n",
      "\n",
      "DR:\n",
      "Pft Delta: 0.0\n",
      "Overall costs: 48.9\n",
      "\n",
      "Simulation [6]\n",
      "SR:\n",
      "Pft Delta: -35.6\n",
      "Overall costs: 25\n",
      "\n",
      "DR:\n",
      "Pft Delta: 0.0\n",
      "Overall costs: 71.83\n",
      "\n",
      "Simulation [7]\n",
      "SR:\n",
      "Pft Delta: -27.06\n",
      "Overall costs: 25\n",
      "\n",
      "DR:\n",
      "Pft Delta: 0.0\n",
      "Overall costs: 108.93\n",
      "\n",
      "Simulation [8]\n",
      "SR:\n",
      "Pft Delta: -35.24\n",
      "Overall costs: 25\n",
      "\n",
      "DR:\n",
      "Pft Delta: 0.0\n",
      "Overall costs: 144.82\n",
      "\n",
      "Simulation [9]\n",
      "SR:\n",
      "Pft Delta: -38.56\n",
      "Overall costs: 25\n",
      "\n",
      "DR:\n",
      "Pft Delta: 0.0\n",
      "Overall costs: 161.16\n",
      "\n",
      "Simulation [10]\n",
      "SR:\n",
      "Pft Delta: -39.32\n",
      "Overall costs: 25\n",
      "\n",
      "DR:\n",
      "Pft Delta: 0.0\n",
      "Overall costs: 165.13\n",
      "\n",
      "Simulation [11]\n",
      "SR:\n",
      "Pft Delta: -42.96\n",
      "Overall costs: 25\n",
      "\n",
      "DR:\n",
      "Pft Delta: 0.0\n",
      "Overall costs: 182.97\n",
      "\n",
      "Simulation [12]\n",
      "SR:\n",
      "Pft Delta: -46.66\n",
      "Overall costs: 25\n",
      "\n",
      "DR:\n",
      "Pft Delta: 0.0\n",
      "Overall costs: 201.04\n",
      "\n",
      "Simulation [13]\n",
      "SR:\n",
      "Pft Delta: -47.06\n",
      "Overall costs: 25\n",
      "\n",
      "DR:\n",
      "Pft Delta: 0.0\n",
      "Overall costs: 203.1\n",
      "\n",
      "Simulation [14]\n",
      "SR:\n",
      "Pft Delta: -45.74\n",
      "Overall costs: 25\n",
      "\n",
      "DR:\n",
      "Pft Delta: 0.0\n",
      "Overall costs: 210.24\n",
      "\n",
      "Simulation [15]\n",
      "SR:\n",
      "Pft Delta: -48.82\n",
      "Overall costs: 25\n",
      "\n",
      "DR:\n",
      "Pft Delta: 0.0\n",
      "Overall costs: 226.33\n",
      "\n",
      "Simulation [16]\n",
      "SR:\n",
      "Pft Delta: -48.87\n",
      "Overall costs: 25\n",
      "\n",
      "DR:\n",
      "Pft Delta: 0.0\n",
      "Overall costs: 226.65\n",
      "\n",
      "Simulation [17]\n",
      "SR:\n",
      "Pft Delta: -58.55\n",
      "Overall costs: 25\n",
      "\n",
      "DR:\n",
      "Pft Delta: 0.0\n",
      "Overall costs: 271.62\n",
      "\n",
      "Simulation [18]\n",
      "SR:\n",
      "Pft Delta: -52.0\n",
      "Overall costs: 25\n",
      "\n",
      "DR:\n",
      "Pft Delta: 0.0\n",
      "Overall costs: 311.41\n",
      "\n",
      "Simulation [19]\n",
      "SR:\n",
      "Pft Delta: -56.58\n",
      "Overall costs: 25\n",
      "\n",
      "DR:\n",
      "Pft Delta: 0.0\n",
      "Overall costs: 340.18\n"
     ]
    }
   ],
   "source": [
    "n = 20  # num timesteps\n",
    "s0: float = 100  # initial underlying price\n",
    "for i in range(n):\n",
    "    print(f\"Simulation [{i}]\")\n",
    "    print(f\"SR:\\nPft Delta: {round(delta_static_pft, 2)}\\nOverall costs: {abs(-5 * 5)}\\n\")\n",
    "    print(f\"DR:\\nPft Delta: {round(delta_dynamic_pft, 2)}\\nOverall costs: {round(dynamic_trn_costs, 2)}\\n\")\n",
    "    s0 = gbm(s0, 1.05, 10)\n",
    "    rebalance_dynamic_pft()"
   ],
   "metadata": {
    "collapsed": false,
    "ExecuteTime": {
     "end_time": "2023-11-20T20:51:17.791239401Z",
     "start_time": "2023-11-20T20:51:17.619768552Z"
    }
   },
   "id": "f8da87331b554367"
  }
 ],
 "metadata": {
  "kernelspec": {
   "display_name": "Python 3",
   "language": "python",
   "name": "python3"
  },
  "language_info": {
   "codemirror_mode": {
    "name": "ipython",
    "version": 2
   },
   "file_extension": ".py",
   "mimetype": "text/x-python",
   "name": "python",
   "nbconvert_exporter": "python",
   "pygments_lexer": "ipython2",
   "version": "2.7.6"
  }
 },
 "nbformat": 4,
 "nbformat_minor": 5
}
